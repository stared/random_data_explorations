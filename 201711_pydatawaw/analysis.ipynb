{
 "cells": [
  {
   "cell_type": "code",
   "execution_count": 38,
   "metadata": {
    "collapsed": true
   },
   "outputs": [],
   "source": [
    "import pandas as pd\n",
    "%matplotlib inline\n",
    "from matplotlib import pyplot as plt\n",
    "import seaborn as sns"
   ]
  },
  {
   "cell_type": "code",
   "execution_count": 7,
   "metadata": {
    "collapsed": true
   },
   "outputs": [],
   "source": [
    "participants = pd.read_csv(\"pdwc2017_anonym.csv\", parse_dates=['Order Date', 'Check-In Date'])"
   ]
  },
  {
   "cell_type": "code",
   "execution_count": 8,
   "metadata": {},
   "outputs": [
    {
     "data": {
      "text/html": [
       "<div>\n",
       "<style>\n",
       "    .dataframe thead tr:only-child th {\n",
       "        text-align: right;\n",
       "    }\n",
       "\n",
       "    .dataframe thead th {\n",
       "        text-align: left;\n",
       "    }\n",
       "\n",
       "    .dataframe tbody tr th {\n",
       "        vertical-align: top;\n",
       "    }\n",
       "</style>\n",
       "<table border=\"1\" class=\"dataframe\">\n",
       "  <thead>\n",
       "    <tr style=\"text-align: right;\">\n",
       "      <th></th>\n",
       "      <th>Attendee Status</th>\n",
       "      <th>Order Date</th>\n",
       "      <th>Check-In Date</th>\n",
       "      <th>Would you like a T-Shirt?</th>\n",
       "      <th>What size?</th>\n",
       "      <th>Job Title</th>\n",
       "      <th>Participant Type</th>\n",
       "      <th>Call Type</th>\n",
       "      <th>Country</th>\n",
       "      <th>City</th>\n",
       "    </tr>\n",
       "  </thead>\n",
       "  <tbody>\n",
       "    <tr>\n",
       "      <th>0</th>\n",
       "      <td>Checked In</td>\n",
       "      <td>2017-06-16 14:31:21.996</td>\n",
       "      <td>2017-10-19 10:35:00</td>\n",
       "      <td>Yes</td>\n",
       "      <td>Unisex Medium</td>\n",
       "      <td>J.Data Scientist</td>\n",
       "      <td>Individual</td>\n",
       "      <td>Early Bird</td>\n",
       "      <td>Poland</td>\n",
       "      <td>Warsaw</td>\n",
       "    </tr>\n",
       "    <tr>\n",
       "      <th>1</th>\n",
       "      <td>Attending</td>\n",
       "      <td>2017-06-16 15:39:10.002</td>\n",
       "      <td>NaT</td>\n",
       "      <td>Yes</td>\n",
       "      <td>Unisex Medium</td>\n",
       "      <td>Manager</td>\n",
       "      <td>Individual</td>\n",
       "      <td>Early Bird</td>\n",
       "      <td>Poland</td>\n",
       "      <td>Wielkie Drogi</td>\n",
       "    </tr>\n",
       "    <tr>\n",
       "      <th>2</th>\n",
       "      <td>Checked In</td>\n",
       "      <td>2017-06-19 09:45:10.999</td>\n",
       "      <td>2017-10-19 11:54:00</td>\n",
       "      <td>Yes</td>\n",
       "      <td>Unisex Large</td>\n",
       "      <td>Data Scientist</td>\n",
       "      <td>Individual</td>\n",
       "      <td>Early Bird</td>\n",
       "      <td>Poland</td>\n",
       "      <td>Warsaw</td>\n",
       "    </tr>\n",
       "    <tr>\n",
       "      <th>3</th>\n",
       "      <td>Checked In</td>\n",
       "      <td>2017-06-20 17:00:41.996</td>\n",
       "      <td>2017-10-19 10:01:00</td>\n",
       "      <td>Yes</td>\n",
       "      <td>Unisex Small</td>\n",
       "      <td>None</td>\n",
       "      <td>Individual</td>\n",
       "      <td>Early Bird</td>\n",
       "      <td>Poland</td>\n",
       "      <td>Warsaw</td>\n",
       "    </tr>\n",
       "    <tr>\n",
       "      <th>4</th>\n",
       "      <td>Attending</td>\n",
       "      <td>2017-06-20 23:09:45.003</td>\n",
       "      <td>NaT</td>\n",
       "      <td>Yes</td>\n",
       "      <td>Unisex XL</td>\n",
       "      <td>solution architect</td>\n",
       "      <td>Individual</td>\n",
       "      <td>Early Bird</td>\n",
       "      <td>Poland</td>\n",
       "      <td>Warsaw</td>\n",
       "    </tr>\n",
       "  </tbody>\n",
       "</table>\n",
       "</div>"
      ],
      "text/plain": [
       "  Attendee Status              Order Date       Check-In Date  \\\n",
       "0      Checked In 2017-06-16 14:31:21.996 2017-10-19 10:35:00   \n",
       "1       Attending 2017-06-16 15:39:10.002                 NaT   \n",
       "2      Checked In 2017-06-19 09:45:10.999 2017-10-19 11:54:00   \n",
       "3      Checked In 2017-06-20 17:00:41.996 2017-10-19 10:01:00   \n",
       "4       Attending 2017-06-20 23:09:45.003                 NaT   \n",
       "\n",
       "  Would you like a T-Shirt?     What size?           Job Title  \\\n",
       "0                       Yes  Unisex Medium    J.Data Scientist   \n",
       "1                       Yes  Unisex Medium             Manager   \n",
       "2                       Yes   Unisex Large      Data Scientist   \n",
       "3                       Yes   Unisex Small                None   \n",
       "4                       Yes      Unisex XL  solution architect   \n",
       "\n",
       "  Participant Type   Call Type Country           City  \n",
       "0       Individual  Early Bird  Poland         Warsaw  \n",
       "1       Individual  Early Bird  Poland  Wielkie Drogi  \n",
       "2       Individual  Early Bird  Poland         Warsaw  \n",
       "3       Individual  Early Bird  Poland         Warsaw  \n",
       "4       Individual  Early Bird  Poland         Warsaw  "
      ]
     },
     "execution_count": 8,
     "metadata": {},
     "output_type": "execute_result"
    }
   ],
   "source": [
    "participants.head()"
   ]
  },
  {
   "cell_type": "code",
   "execution_count": 37,
   "metadata": {},
   "outputs": [
    {
     "data": {
      "text/plain": [
       "90.843373493975903"
      ]
     },
     "execution_count": 37,
     "metadata": {},
     "output_type": "execute_result"
    }
   ],
   "source": [
    "# percent of people who showed up\n",
    "100 * (participants['Attendee Status'] == \"Checked In\").mean()"
   ]
  },
  {
   "cell_type": "code",
   "execution_count": 52,
   "metadata": {},
   "outputs": [
    {
     "data": {
      "text/plain": [
       "Poland              332\n",
       "Germany              16\n",
       "United Kingdom       10\n",
       "Denmark              10\n",
       "Netherlands           6\n",
       "Spain                 5\n",
       "Sweden                5\n",
       "United States         5\n",
       "Unknown Location      4\n",
       "Ukraine               3\n",
       "Czech Republic        3\n",
       "Norway                3\n",
       "Ireland               3\n",
       "Italy                 2\n",
       "Romania               2\n",
       "France                2\n",
       "Israel                1\n",
       "Portugal              1\n",
       "Latvia                1\n",
       "Switzerland           1\n",
       "Name: Country, dtype: int64"
      ]
     },
     "execution_count": 52,
     "metadata": {},
     "output_type": "execute_result"
    }
   ],
   "source": [
    "participants['Country'].value_counts()"
   ]
  },
  {
   "cell_type": "code",
   "execution_count": 54,
   "metadata": {},
   "outputs": [
    {
     "data": {
      "text/plain": [
       "Warsaw       181\n",
       "Krakow        34\n",
       "Poznan        23\n",
       "Białystok     20\n",
       "Wrocław        9\n",
       "Name: City, dtype: int64"
      ]
     },
     "execution_count": 54,
     "metadata": {},
     "output_type": "execute_result"
    }
   ],
   "source": [
    "participants.loc[lambda df: df['Country'] == \"Poland\"]['City'].value_counts().head(5)"
   ]
  },
  {
   "cell_type": "code",
   "execution_count": 56,
   "metadata": {},
   "outputs": [
    {
     "data": {
      "text/plain": [
       "London           8\n",
       "Frederiksberg    7\n",
       "Stockholm        5\n",
       "Madrid           4\n",
       "Oslo             3\n",
       "Name: City, dtype: int64"
      ]
     },
     "execution_count": 56,
     "metadata": {},
     "output_type": "execute_result"
    }
   ],
   "source": [
    "participants.loc[lambda df: df['Country'] != \"Poland\"]['City'].value_counts().head(5)"
   ]
  },
  {
   "cell_type": "code",
   "execution_count": 59,
   "metadata": {},
   "outputs": [
    {
     "data": {
      "text/plain": [
       "20"
      ]
     },
     "execution_count": 59,
     "metadata": {},
     "output_type": "execute_result"
    }
   ],
   "source": [
    "# total number of countries\n",
    "len(participants['Country'].value_counts())"
   ]
  },
  {
   "cell_type": "code",
   "execution_count": 58,
   "metadata": {},
   "outputs": [
    {
     "data": {
      "text/plain": [
       "69"
      ]
     },
     "execution_count": 58,
     "metadata": {},
     "output_type": "execute_result"
    }
   ],
   "source": [
    "# total number of cities\n",
    "len(participants['City'].value_counts())"
   ]
  },
  {
   "cell_type": "code",
   "execution_count": 47,
   "metadata": {},
   "outputs": [
    {
     "data": {
      "text/plain": [
       "<matplotlib.axes._subplots.AxesSubplot at 0x11bfa3470>"
      ]
     },
     "execution_count": 47,
     "metadata": {},
     "output_type": "execute_result"
    },
    {
     "data": {
      "image/png": "[encoded data removed]",
      "text/plain": [
       "<matplotlib.figure.Figure at 0x11bfb0e48>"
      ]
     },
     "metadata": {},
     "output_type": "display_data"
    }
   ],
   "source": [
    "ticket_types = pd.pivot_table(participants, index='Participant Type',\n",
    "                               columns='Call Type', values='Attendee Status', aggfunc=len)\n",
    "ticket_types = ticket_types.loc[:, ['Early Bird', 'Regular', 'Final Call']]\n",
    "sns.heatmap(ticket_types, annot=True, fmt=\"d\")"
   ]
  },
  {
   "cell_type": "code",
   "execution_count": 50,
   "metadata": {},
   "outputs": [
    {
     "data": {
      "text/plain": [
       "<seaborn.axisgrid.FacetGrid at 0x11bff0390>"
      ]
     },
     "execution_count": 50,
     "metadata": {},
     "output_type": "execute_result"
    },
    {
     "data": {
      "image/png": "[encoded data removed]",
      "text/plain": [
       "<matplotlib.figure.Figure at 0x11bff0748>"
      ]
     },
     "metadata": {},
     "output_type": "display_data"
    }
   ],
   "source": [
    "sns.factorplot(data=participants, x=\"Call Type\", hue=\"Participant Type\", kind=\"count\")"
   ]
  },
  {
   "cell_type": "code",
   "execution_count": 120,
   "metadata": {},
   "outputs": [
    {
     "data": {
      "text/plain": [
       "89.638554216867476"
      ]
     },
     "execution_count": 120,
     "metadata": {},
     "output_type": "execute_result"
    }
   ],
   "source": [
    "# percent of people wanting a t-shirt\n",
    "100 * (participants['Would you like a T-Shirt?'] == \"Yes\").mean()"
   ]
  },
  {
   "cell_type": "code",
   "execution_count": 16,
   "metadata": {},
   "outputs": [
    {
     "data": {
      "text/plain": [
       "Large             125\n",
       "Medium            122\n",
       "XL                 52\n",
       "Small              45\n",
       "XXL                13\n",
       "X-Small             8\n",
       "Medium | Large      4\n",
       "Small | Medium      2\n",
       "Large | XL          1\n",
       "XL | XXL            1\n",
       "Name: What size?, dtype: int64"
      ]
     },
     "execution_count": 16,
     "metadata": {},
     "output_type": "execute_result"
    }
   ],
   "source": [
    "tshirts = participants[\"What size?\"].dropna().apply(lambda x: x.replace(\"Unisex \", \"\")).value_counts()\n",
    "tshirts"
   ]
  },
  {
   "cell_type": "code",
   "execution_count": 39,
   "metadata": {},
   "outputs": [
    {
     "data": {
      "text/plain": [
       "Text(0,0.5,'Participants')"
      ]
     },
     "execution_count": 39,
     "metadata": {},
     "output_type": "execute_result"
    },
    {
     "data": {
      "image/png": "[encoded data removed]",
      "text/plain": [
       "<matplotlib.figure.Figure at 0x11b7d8668>"
      ]
     },
     "metadata": {},
     "output_type": "display_data"
    }
   ],
   "source": [
    "tshirts.loc[['X-Small', 'Small', 'Medium', 'Large', 'XL', 'XXL']].plot(kind='bar')\n",
    "plt.title(\"Prefered T-shirt size\")\n",
    "plt.ylabel(\"Participants\")"
   ]
  },
  {
   "cell_type": "code",
   "execution_count": 114,
   "metadata": {},
   "outputs": [
    {
     "data": {
      "text/plain": [
       "Text(0,0.5,'Participants')"
      ]
     },
     "execution_count": 114,
     "metadata": {},
     "output_type": "execute_result"
    },
    {
     "data": {
      "image/png": "[encoded data removed]",
      "text/plain": [
       "<matplotlib.figure.Figure at 0x11be93f60>"
      ]
     },
     "metadata": {},
     "output_type": "display_data"
    }
   ],
   "source": [
    "order_dates = participants[\"Order Date\"].sort_values()\n",
    "pd.Series(range(1, len(order_dates) + 1), index=order_dates).plot()\n",
    "plt.title(\"Cumulative number of sign ups\")\n",
    "plt.xlabel(\"\")\n",
    "plt.ylabel(\"Participants\")"
   ]
  },
  {
   "cell_type": "code",
   "execution_count": 41,
   "metadata": {},
   "outputs": [
    {
     "data": {
      "text/plain": [
       "Text(0,0.5,'Participants')"
      ]
     },
     "execution_count": 41,
     "metadata": {},
     "output_type": "execute_result"
    },
    {
     "data": {
      "image/png": "[encoded data removed]",
      "text/plain": [
       "<matplotlib.figure.Figure at 0x11b8df080>"
      ]
     },
     "metadata": {},
     "output_type": "display_data"
    }
   ],
   "source": [
    "checkin_dates = participants[\"Check-In Date\"].dropna().sort_values()\n",
    "pd.Series(range(1, len(checkin_dates) + 1), index=checkin_dates).plot()\n",
    "plt.title(\"Cumulative number of check ins\")\n",
    "plt.xlabel(\"\")\n",
    "plt.ylabel(\"Participants\")"
   ]
  },
  {
   "cell_type": "code",
   "execution_count": 42,
   "metadata": {},
   "outputs": [
    {
     "data": {
      "text/plain": [
       "<matplotlib.axes._subplots.AxesSubplot at 0x11ba947f0>"
      ]
     },
     "execution_count": 42,
     "metadata": {},
     "output_type": "execute_result"
    },
    {
     "data": {
      "image/png": "[encoded data removed]",
      "text/plain": [
       "<matplotlib.figure.Figure at 0x11b8b13c8>"
      ]
     },
     "metadata": {},
     "output_type": "display_data"
    }
   ],
   "source": [
    "checkin_dates.hist(bins=50)"
   ]
  },
  {
   "cell_type": "code",
   "execution_count": 72,
   "metadata": {
    "collapsed": true
   },
   "outputs": [],
   "source": [
    "import datetime"
   ]
  },
  {
   "cell_type": "code",
   "execution_count": 84,
   "metadata": {},
   "outputs": [],
   "source": [
    "checkin19 = checkin_dates.loc[checkin_dates.apply(lambda x: x.day == 19)]\n"
   ]
  },
  {
   "cell_type": "code",
   "execution_count": 91,
   "metadata": {},
   "outputs": [
    {
     "data": {
      "text/plain": [
       "Text(0,0.5,'Participants')"
      ]
     },
     "execution_count": 91,
     "metadata": {},
     "output_type": "execute_result"
    },
    {
     "data": {
      "image/png": "[encoded data removed]",
      "text/plain": [
       "<matplotlib.figure.Figure at 0x11c878da0>"
      ]
     },
     "metadata": {},
     "output_type": "display_data"
    }
   ],
   "source": [
    "checkin19.apply(lambda x: x.hour + x.minute/60).hist(range=(8, 18), bins=40)\n",
    "plt.title(\"Checkins on 19 Oct 2017\")\n",
    "plt.xlabel(\"Hour\")\n",
    "plt.ylabel(\"Participants\")"
   ]
  },
  {
   "cell_type": "code",
   "execution_count": 96,
   "metadata": {},
   "outputs": [],
   "source": [
    "times = participants.loc[checkin19.index, [\"Order Date\", \"Check-In Date\"]]"
   ]
  },
  {
   "cell_type": "code",
   "execution_count": 117,
   "metadata": {},
   "outputs": [],
   "source": [
    "times_secs = times.applymap(lambda x: (x - pd.Timestamp(datetime.date(2017, 10, 19))).total_seconds()) "
   ]
  },
  {
   "cell_type": "code",
   "execution_count": 119,
   "metadata": {},
   "outputs": [
    {
     "data": {
      "text/html": [
       "<div>\n",
       "<style>\n",
       "    .dataframe thead tr:only-child th {\n",
       "        text-align: right;\n",
       "    }\n",
       "\n",
       "    .dataframe thead th {\n",
       "        text-align: left;\n",
       "    }\n",
       "\n",
       "    .dataframe tbody tr th {\n",
       "        vertical-align: top;\n",
       "    }\n",
       "</style>\n",
       "<table border=\"1\" class=\"dataframe\">\n",
       "  <thead>\n",
       "    <tr style=\"text-align: right;\">\n",
       "      <th></th>\n",
       "      <th>Order Date</th>\n",
       "      <th>Check-In Date</th>\n",
       "    </tr>\n",
       "  </thead>\n",
       "  <tbody>\n",
       "    <tr>\n",
       "      <th>Order Date</th>\n",
       "      <td>1.000000</td>\n",
       "      <td>-0.123597</td>\n",
       "    </tr>\n",
       "    <tr>\n",
       "      <th>Check-In Date</th>\n",
       "      <td>-0.123597</td>\n",
       "      <td>1.000000</td>\n",
       "    </tr>\n",
       "  </tbody>\n",
       "</table>\n",
       "</div>"
      ],
      "text/plain": [
       "               Order Date  Check-In Date\n",
       "Order Date       1.000000      -0.123597\n",
       "Check-In Date   -0.123597       1.000000"
      ]
     },
     "execution_count": 119,
     "metadata": {},
     "output_type": "execute_result"
    }
   ],
   "source": [
    "times_secs.corr()"
   ]
  },
  {
   "cell_type": "code",
   "execution_count": 63,
   "metadata": {},
   "outputs": [
    {
     "data": {
      "text/plain": [
       "Data Scientist        60\n",
       "Student               19\n",
       "Software Engineer     12\n",
       "Developer             10\n",
       "Software Developer     9\n",
       "student                8\n",
       "CTO                    8\n",
       "Phyton Developer       7\n",
       "PhD student            6\n",
       "softeare developer     5\n",
       "Name: Job Title, dtype: int64"
      ]
     },
     "execution_count": 63,
     "metadata": {},
     "output_type": "execute_result"
    }
   ],
   "source": [
    "participants[\"Job Title\"].value_counts().head(10)"
   ]
  },
  {
   "cell_type": "code",
   "execution_count": 71,
   "metadata": {},
   "outputs": [
    {
     "data": {
      "text/plain": [
       "Data Scientist              60\n",
       "Student                     19\n",
       "Software Engineer           12\n",
       "Developer                   10\n",
       "Software Developer           9\n",
       "student                      8\n",
       "CTO                          8\n",
       "Phyton Developer             7\n",
       "PhD student                  6\n",
       "softeare developer           5\n",
       "Junior Data Scientist        5\n",
       "Development                  5\n",
       "Software developer           4\n",
       "Programmer                   4\n",
       "Senior Software Engineer     4\n",
       "R&D Engineer                 4\n",
       "Senior Data Scientist        3\n",
       "Junior Specialist            3\n",
       "Consultant                   3\n",
       "Python Developer             3\n",
       "Name: Job Title, dtype: int64"
      ]
     },
     "execution_count": 71,
     "metadata": {},
     "output_type": "execute_result"
    }
   ],
   "source": [
    "participants[\"Job Title\"].value_counts().head(20)"
   ]
  },
  {
   "cell_type": "code",
   "execution_count": 69,
   "metadata": {},
   "outputs": [
    {
     "data": {
      "text/plain": [
       "[('data', 105),\n",
       " ('scientist', 85),\n",
       " ('developer', 66),\n",
       " ('engineer', 51),\n",
       " ('software', 47),\n",
       " ('student', 35),\n",
       " ('senior', 23),\n",
       " ('junior', 16),\n",
       " ('analyst', 16),\n",
       " ('consultant', 12),\n",
       " ('manager', 11),\n",
       " ('specialist', 10),\n",
       " ('team', 9),\n",
       " ('python', 9),\n",
       " ('phd', 9),\n",
       " ('head', 8),\n",
       " ('lead', 8),\n",
       " ('cto', 8),\n",
       " ('of', 8),\n",
       " ('science', 8)]"
      ]
     },
     "execution_count": 69,
     "metadata": {},
     "output_type": "execute_result"
    }
   ],
   "source": [
    "from collections import Counter\n",
    "words = Counter()\n",
    "for index, title in participants[\"Job Title\"].items():\n",
    "    words.update(title.lower().split())\n",
    "words.most_common(20)"
   ]
  },
  {
   "cell_type": "code",
   "execution_count": null,
   "metadata": {
    "collapsed": true
   },
   "outputs": [],
   "source": []
  }
 ],
 "metadata": {
  "kernelspec": {
   "display_name": "Python [default]",
   "language": "python",
   "name": "python3"
  },
  "language_info": {
   "codemirror_mode": {
    "name": "ipython",
    "version": 3
   },
   "file_extension": ".py",
   "mimetype": "text/x-python",
   "name": "python",
   "nbconvert_exporter": "python",
   "pygments_lexer": "ipython3",
   "version": "3.5.3"
  }
 },
 "nbformat": 4,
 "nbformat_minor": 2
}
