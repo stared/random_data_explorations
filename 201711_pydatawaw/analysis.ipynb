{
 "cells": [
  {
   "cell_type": "code",
   "execution_count": 1,
   "metadata": {
    "collapsed": true
   },
   "outputs": [],
   "source": [
    "import pandas as pd\n",
    "%matplotlib inline\n",
    "from matplotlib import pyplot as plt\n",
    "import seaborn as sns\n",
    "import datetime\n",
    "sns.set_style('whitegrid')"
   ]
  },
  {
   "cell_type": "code",
   "execution_count": 2,
   "metadata": {
    "collapsed": true
   },
   "outputs": [],
   "source": [
    "# I made steps to anonymize this data.\n",
    "# Though, if you have any reservations - please let me know and I will remove your entry.\n",
    "participants = pd.read_csv(\"pdwc2017_anonym.csv\", parse_dates=['Order Date', 'Check-In Date'])"
   ]
  },
  {
   "cell_type": "code",
   "execution_count": 3,
   "metadata": {},
   "outputs": [
    {
     "data": {
      "text/html": [
       "<div>\n",
       "<style>\n",
       "    .dataframe thead tr:only-child th {\n",
       "        text-align: right;\n",
       "    }\n",
       "\n",
       "    .dataframe thead th {\n",
       "        text-align: left;\n",
       "    }\n",
       "\n",
       "    .dataframe tbody tr th {\n",
       "        vertical-align: top;\n",
       "    }\n",
       "</style>\n",
       "<table border=\"1\" class=\"dataframe\">\n",
       "  <thead>\n",
       "    <tr style=\"text-align: right;\">\n",
       "      <th></th>\n",
       "      <th>Attendee Status</th>\n",
       "      <th>Order Date</th>\n",
       "      <th>Check-In Date</th>\n",
       "      <th>Would you like a T-Shirt?</th>\n",
       "      <th>What size?</th>\n",
       "      <th>Job Title</th>\n",
       "      <th>Participant Type</th>\n",
       "      <th>Call Type</th>\n",
       "      <th>Country</th>\n",
       "      <th>City</th>\n",
       "    </tr>\n",
       "  </thead>\n",
       "  <tbody>\n",
       "    <tr>\n",
       "      <th>0</th>\n",
       "      <td>Checked In</td>\n",
       "      <td>2017-06-16 14:31:21.996</td>\n",
       "      <td>2017-10-19 10:35:00</td>\n",
       "      <td>Yes</td>\n",
       "      <td>Unisex Medium</td>\n",
       "      <td>J.Data Scientist</td>\n",
       "      <td>Individual</td>\n",
       "      <td>Early Bird</td>\n",
       "      <td>Poland</td>\n",
       "      <td>Warsaw</td>\n",
       "    </tr>\n",
       "    <tr>\n",
       "      <th>1</th>\n",
       "      <td>Attending</td>\n",
       "      <td>2017-06-16 15:39:10.002</td>\n",
       "      <td>NaT</td>\n",
       "      <td>Yes</td>\n",
       "      <td>Unisex Medium</td>\n",
       "      <td>Manager</td>\n",
       "      <td>Individual</td>\n",
       "      <td>Early Bird</td>\n",
       "      <td>Poland</td>\n",
       "      <td>Wielkie Drogi</td>\n",
       "    </tr>\n",
       "    <tr>\n",
       "      <th>2</th>\n",
       "      <td>Checked In</td>\n",
       "      <td>2017-06-19 09:45:10.999</td>\n",
       "      <td>2017-10-19 11:54:00</td>\n",
       "      <td>Yes</td>\n",
       "      <td>Unisex Large</td>\n",
       "      <td>Data Scientist</td>\n",
       "      <td>Individual</td>\n",
       "      <td>Early Bird</td>\n",
       "      <td>Poland</td>\n",
       "      <td>Warsaw</td>\n",
       "    </tr>\n",
       "    <tr>\n",
       "      <th>3</th>\n",
       "      <td>Checked In</td>\n",
       "      <td>2017-06-20 17:00:41.996</td>\n",
       "      <td>2017-10-19 10:01:00</td>\n",
       "      <td>Yes</td>\n",
       "      <td>Unisex Small</td>\n",
       "      <td>None</td>\n",
       "      <td>Individual</td>\n",
       "      <td>Early Bird</td>\n",
       "      <td>Poland</td>\n",
       "      <td>Warsaw</td>\n",
       "    </tr>\n",
       "    <tr>\n",
       "      <th>4</th>\n",
       "      <td>Attending</td>\n",
       "      <td>2017-06-20 23:09:45.003</td>\n",
       "      <td>NaT</td>\n",
       "      <td>Yes</td>\n",
       "      <td>Unisex XL</td>\n",
       "      <td>solution architect</td>\n",
       "      <td>Individual</td>\n",
       "      <td>Early Bird</td>\n",
       "      <td>Poland</td>\n",
       "      <td>Warsaw</td>\n",
       "    </tr>\n",
       "  </tbody>\n",
       "</table>\n",
       "</div>"
      ],
      "text/plain": [
       "  Attendee Status              Order Date       Check-In Date  \\\n",
       "0      Checked In 2017-06-16 14:31:21.996 2017-10-19 10:35:00   \n",
       "1       Attending 2017-06-16 15:39:10.002                 NaT   \n",
       "2      Checked In 2017-06-19 09:45:10.999 2017-10-19 11:54:00   \n",
       "3      Checked In 2017-06-20 17:00:41.996 2017-10-19 10:01:00   \n",
       "4       Attending 2017-06-20 23:09:45.003                 NaT   \n",
       "\n",
       "  Would you like a T-Shirt?     What size?           Job Title  \\\n",
       "0                       Yes  Unisex Medium    J.Data Scientist   \n",
       "1                       Yes  Unisex Medium             Manager   \n",
       "2                       Yes   Unisex Large      Data Scientist   \n",
       "3                       Yes   Unisex Small                None   \n",
       "4                       Yes      Unisex XL  solution architect   \n",
       "\n",
       "  Participant Type   Call Type Country           City  \n",
       "0       Individual  Early Bird  Poland         Warsaw  \n",
       "1       Individual  Early Bird  Poland  Wielkie Drogi  \n",
       "2       Individual  Early Bird  Poland         Warsaw  \n",
       "3       Individual  Early Bird  Poland         Warsaw  \n",
       "4       Individual  Early Bird  Poland         Warsaw  "
      ]
     },
     "execution_count": 3,
     "metadata": {},
     "output_type": "execute_result"
    }
   ],
   "source": [
    "participants.head()"
   ]
  },
  {
   "cell_type": "code",
   "execution_count": 4,
   "metadata": {},
   "outputs": [
    {
     "data": {
      "text/plain": [
       "415"
      ]
     },
     "execution_count": 4,
     "metadata": {},
     "output_type": "execute_result"
    }
   ],
   "source": [
    "len(participants)"
   ]
  },
  {
   "cell_type": "code",
   "execution_count": 5,
   "metadata": {},
   "outputs": [
    {
     "data": {
      "text/plain": [
       "90.843373493975903"
      ]
     },
     "execution_count": 5,
     "metadata": {},
     "output_type": "execute_result"
    }
   ],
   "source": [
    "# percent of people who showed up\n",
    "100 * (participants['Attendee Status'] == \"Checked In\").mean()"
   ]
  },
  {
   "cell_type": "code",
   "execution_count": 6,
   "metadata": {},
   "outputs": [
    {
     "data": {
      "text/plain": [
       "Poland              332\n",
       "Germany              16\n",
       "United Kingdom       10\n",
       "Denmark              10\n",
       "Netherlands           6\n",
       "United States         5\n",
       "Spain                 5\n",
       "Sweden                5\n",
       "Unknown Location      4\n",
       "Czech Republic        3\n",
       "Ukraine               3\n",
       "Norway                3\n",
       "Ireland               3\n",
       "Romania               2\n",
       "Italy                 2\n",
       "France                2\n",
       "Israel                1\n",
       "Portugal              1\n",
       "Latvia                1\n",
       "Switzerland           1\n",
       "Name: Country, dtype: int64"
      ]
     },
     "execution_count": 6,
     "metadata": {},
     "output_type": "execute_result"
    }
   ],
   "source": [
    "participants['Country'].value_counts()"
   ]
  },
  {
   "cell_type": "code",
   "execution_count": 7,
   "metadata": {},
   "outputs": [
    {
     "data": {
      "text/plain": [
       "0.8"
      ]
     },
     "execution_count": 7,
     "metadata": {},
     "output_type": "execute_result"
    }
   ],
   "source": [
    "# Poland\n",
    "332 / 415"
   ]
  },
  {
   "cell_type": "code",
   "execution_count": 8,
   "metadata": {},
   "outputs": [
    {
     "data": {
      "text/plain": [
       "Warsaw                181\n",
       "Krakow                 34\n",
       "Poznan                 23\n",
       "Białystok              20\n",
       "Wrocław                 9\n",
       "Warzachewka Polska      5\n",
       "Gdańsk                  4\n",
       "Olsztyn                 3\n",
       "Lublin                  2\n",
       "Łódź                    2\n",
       "Name: City, dtype: int64"
      ]
     },
     "execution_count": 8,
     "metadata": {},
     "output_type": "execute_result"
    }
   ],
   "source": [
    "participants.loc[lambda df: df['Country'] == \"Poland\"]['City'].value_counts().head(10)"
   ]
  },
  {
   "cell_type": "code",
   "execution_count": 9,
   "metadata": {},
   "outputs": [
    {
     "data": {
      "text/plain": [
       "0.43614457831325304"
      ]
     },
     "execution_count": 9,
     "metadata": {},
     "output_type": "execute_result"
    }
   ],
   "source": [
    "# Warsaw\n",
    "181 / 415"
   ]
  },
  {
   "cell_type": "code",
   "execution_count": 10,
   "metadata": {},
   "outputs": [
    {
     "data": {
      "text/plain": [
       "London           8\n",
       "Frederiksberg    7\n",
       "Stockholm        5\n",
       "Madrid           4\n",
       "Oslo             3\n",
       "Prague           3\n",
       "Copenhagen       3\n",
       "Amsterdam        2\n",
       "Berlin           2\n",
       "Almere Stad      2\n",
       "Name: City, dtype: int64"
      ]
     },
     "execution_count": 10,
     "metadata": {},
     "output_type": "execute_result"
    }
   ],
   "source": [
    "participants.loc[lambda df: df['Country'] != \"Poland\"]['City'].value_counts().head(10)"
   ]
  },
  {
   "cell_type": "code",
   "execution_count": 11,
   "metadata": {},
   "outputs": [
    {
     "data": {
      "text/plain": [
       "20"
      ]
     },
     "execution_count": 11,
     "metadata": {},
     "output_type": "execute_result"
    }
   ],
   "source": [
    "# total number of countries\n",
    "len(participants['Country'].value_counts())"
   ]
  },
  {
   "cell_type": "code",
   "execution_count": 12,
   "metadata": {},
   "outputs": [
    {
     "data": {
      "text/plain": [
       "69"
      ]
     },
     "execution_count": 12,
     "metadata": {},
     "output_type": "execute_result"
    }
   ],
   "source": [
    "# total number of cities\n",
    "len(participants['City'].value_counts())"
   ]
  },
  {
   "cell_type": "code",
   "execution_count": 13,
   "metadata": {},
   "outputs": [
    {
     "data": {
      "text/plain": [
       "<matplotlib.axes._subplots.AxesSubplot at 0x11cb42dd8>"
      ]
     },
     "execution_count": 13,
     "metadata": {},
     "output_type": "execute_result"
    },
    {
     "data": {
      "image/png": "[encoded data removed]",
      "text/plain": [
       "<matplotlib.figure.Figure at 0x11cb42630>"
      ]
     },
     "metadata": {},
     "output_type": "display_data"
    }
   ],
   "source": [
    "ticket_types = pd.pivot_table(participants, index='Participant Type',\n",
    "                               columns='Call Type', values='Attendee Status', aggfunc=len)\n",
    "ticket_types = ticket_types.loc[:, ['Early Bird', 'Regular', 'Final Call']]\n",
    "sns.heatmap(ticket_types, annot=True, fmt=\"d\")"
   ]
  },
  {
   "cell_type": "code",
   "execution_count": 14,
   "metadata": {},
   "outputs": [
    {
     "data": {
      "text/plain": [
       "Text(0.5,1,'Ticket types at PyData Warsaw 2017')"
      ]
     },
     "execution_count": 14,
     "metadata": {},
     "output_type": "execute_result"
    },
    {
     "data": {
      "image/png": "[encoded data removed]",
      "text/plain": [
       "<matplotlib.figure.Figure at 0x11c982f60>"
      ]
     },
     "metadata": {},
     "output_type": "display_data"
    }
   ],
   "source": [
    "sns.factorplot(data=participants, x=\"Call Type\", hue=\"Participant Type\", kind=\"count\", size=4)\n",
    "plt.ylabel(\"Participants\")\n",
    "plt.title(\"Ticket types at PyData Warsaw 2017\")"
   ]
  },
  {
   "cell_type": "code",
   "execution_count": 15,
   "metadata": {},
   "outputs": [
    {
     "data": {
      "text/plain": [
       "89.638554216867476"
      ]
     },
     "execution_count": 15,
     "metadata": {},
     "output_type": "execute_result"
    }
   ],
   "source": [
    "# percent of people wanting a t-shirt\n",
    "100 * (participants['Would you like a T-Shirt?'] == \"Yes\").mean()"
   ]
  },
  {
   "cell_type": "code",
   "execution_count": 16,
   "metadata": {},
   "outputs": [
    {
     "data": {
      "text/plain": [
       "Large             125\n",
       "Medium            122\n",
       "XL                 52\n",
       "Small              45\n",
       "XXL                13\n",
       "X-Small             8\n",
       "Medium | Large      4\n",
       "Small | Medium      2\n",
       "XL | XXL            1\n",
       "Large | XL          1\n",
       "Name: What size?, dtype: int64"
      ]
     },
     "execution_count": 16,
     "metadata": {},
     "output_type": "execute_result"
    }
   ],
   "source": [
    "tshirts = participants[\"What size?\"].dropna().apply(lambda x: x.replace(\"Unisex \", \"\")).value_counts()\n",
    "tshirts"
   ]
  },
  {
   "cell_type": "code",
   "execution_count": 17,
   "metadata": {},
   "outputs": [
    {
     "data": {
      "text/plain": [
       "Text(0,0.5,'Participants')"
      ]
     },
     "execution_count": 17,
     "metadata": {},
     "output_type": "execute_result"
    },
    {
     "data": {
      "image/png": "[encoded data removed]",
      "text/plain": [
       "<matplotlib.figure.Figure at 0x11ebd9be0>"
      ]
     },
     "metadata": {},
     "output_type": "display_data"
    }
   ],
   "source": [
    "tshirts.loc[['X-Small', 'Small', 'Medium', 'Large', 'XL', 'XXL']].plot(kind='bar')\n",
    "plt.title(\"T-shirt sizes at PyData Warsaw Conference 2017\")\n",
    "plt.ylabel(\"Participants\")"
   ]
  },
  {
   "cell_type": "markdown",
   "metadata": {},
   "source": [
    "https://www.eventbrite.com/e/pydata-warsaw-2017-tickets-34889678969#\n",
    "\n",
    "* Early Bird ticket pricing (1 June - 16 July)\n",
    "  * Individual: 199.00 zł\n",
    "  * Corporate: 399.00 zł\n",
    "* Regular ticket pricing (17 July - 30 September)\n",
    "  * Individual: 299.00 zł\n",
    "  * Corporate: 599.00 zł\n",
    "* Final call ticket pricing (1 - 19 October)\n",
    "  * Individual: 399.00 zł\n",
    "  * Corporate: 799.00 zł\n"
   ]
  },
  {
   "cell_type": "code",
   "execution_count": 18,
   "metadata": {},
   "outputs": [
    {
     "data": {
      "text/plain": [
       "<matplotlib.collections.LineCollection at 0x11ec17978>"
      ]
     },
     "execution_count": 18,
     "metadata": {},
     "output_type": "execute_result"
    },
    {
     "data": {
      "image/png": "[encoded data removed]",
      "text/plain": [
       "<matplotlib.figure.Figure at 0x11ec20e48>"
      ]
     },
     "metadata": {},
     "output_type": "display_data"
    }
   ],
   "source": [
    "order_dates = participants[\"Order Date\"].sort_values()\n",
    "pd.Series(range(1, len(order_dates) + 1), index=order_dates).plot()\n",
    "plt.title(\"Sign up dates for PyData Warsaw Conference 2017\")\n",
    "plt.xlabel(\"\")\n",
    "plt.ylabel(\"Participants (cummulative)\")\n",
    "plt.vlines(pd.Timestamp(datetime.date(2017, 7, 16)), 0, 415,\n",
    "           linestyles='--', colors='r', linewidth=1)\n",
    "plt.vlines(pd.Timestamp(datetime.date(2017, 9, 30)), 0, 415,\n",
    "           linestyles='--', colors='r', linewidth=1)\n",
    "# plt.text(pd.Timestamp(datetime.date(2017, 6, 24)), 400, \"early bid\")"
   ]
  },
  {
   "cell_type": "code",
   "execution_count": 19,
   "metadata": {
    "collapsed": true
   },
   "outputs": [],
   "source": [
    "def ymd_to_days_before(y, m, d):\n",
    "    return -(pd.Timestamp(datetime.date(y, m, d)) - pd.Timestamp(datetime.date(2017, 10, 19))).total_seconds() / (60**2 * 24)"
   ]
  },
  {
   "cell_type": "code",
   "execution_count": 20,
   "metadata": {},
   "outputs": [
    {
     "data": {
      "text/plain": [
       "Text(0,0.5,'Participants (cumulative)')"
      ]
     },
     "execution_count": 20,
     "metadata": {},
     "output_type": "execute_result"
    },
    {
     "data": {
      "image/png": "[encoded data removed]",
      "text/plain": [
       "<matplotlib.figure.Figure at 0x11c99f9b0>"
      ]
     },
     "metadata": {},
     "output_type": "display_data"
    }
   ],
   "source": [
    "y_max = len(participants)\n",
    "order_dates = participants[\"Order Date\"].sort_values()\n",
    "days_to = order_dates.apply(lambda x: -(x - pd.Timestamp(datetime.date(2017, 10, 19))).total_seconds() / (60**2 * 24)) \n",
    "pd.Series(range(1, len(order_dates) + 1), index=days_to).plot()\n",
    "\n",
    "plt.vlines(ymd_to_days_before(2017, 7, 16), 0, y_max,\n",
    "           linestyles='--', colors='r', linewidth=1)\n",
    "plt.vlines(ymd_to_days_before(2017, 9, 30), 0, y_max,\n",
    "           linestyles='--', colors='r', linewidth=1)\n",
    "plt.text(117, 205, \"early bird\", color='r')\n",
    "plt.text(15, 205, \"final call\", color='r')\n",
    "# plt.text(ymd_to_days_before(2017, 7, 1), -15, \"JUL\")\n",
    "# plt.text(ymd_to_days_before(2017, 8, 1), -15, \"AUG\")\n",
    "# plt.text(ymd_to_days_before(2017, 9, 1), -15, \"SEPT\")\n",
    "# plt.text(ymd_to_days_before(2017, 10, 1), -15, \"OCT\")\n",
    "\n",
    "plt.ylim([0, y_max])\n",
    "plt.title(\"Sign up dates for PyData Warsaw Conference 2017\")\n",
    "plt.xlabel(\"Days before the conference (19 Oct 2017)\")\n",
    "plt.ylabel(\"Participants (cumulative)\")"
   ]
  },
  {
   "cell_type": "code",
   "execution_count": 21,
   "metadata": {},
   "outputs": [
    {
     "data": {
      "text/plain": [
       "Text(0,0.5,'Participants')"
      ]
     },
     "execution_count": 21,
     "metadata": {},
     "output_type": "execute_result"
    },
    {
     "data": {
      "image/png": "[encoded data removed]",
      "text/plain": [
       "<matplotlib.figure.Figure at 0x11ecd0898>"
      ]
     },
     "metadata": {},
     "output_type": "display_data"
    }
   ],
   "source": [
    "# warning: some people arrived earlier but registered later\n",
    "checkin_dates = participants[\"Check-In Date\"].dropna().sort_values()\n",
    "pd.Series(range(1, len(checkin_dates) + 1), index=checkin_dates).plot()\n",
    "plt.title(\"Cumulative number of check ins\")\n",
    "plt.xlabel(\"\")\n",
    "plt.ylabel(\"Participants\")"
   ]
  },
  {
   "cell_type": "code",
   "execution_count": 22,
   "metadata": {},
   "outputs": [
    {
     "data": {
      "text/plain": [
       "<matplotlib.axes._subplots.AxesSubplot at 0x11efabef0>"
      ]
     },
     "execution_count": 22,
     "metadata": {},
     "output_type": "execute_result"
    },
    {
     "data": {
      "image/png": "[encoded data removed]",
      "text/plain": [
       "<matplotlib.figure.Figure at 0x11ecc54a8>"
      ]
     },
     "metadata": {},
     "output_type": "display_data"
    }
   ],
   "source": [
    "checkin_dates.hist(bins=50)"
   ]
  },
  {
   "cell_type": "code",
   "execution_count": 23,
   "metadata": {
    "collapsed": true
   },
   "outputs": [],
   "source": [
    "checkin19 = checkin_dates.loc[checkin_dates.apply(lambda x: x.day == 19)]\n"
   ]
  },
  {
   "cell_type": "code",
   "execution_count": 24,
   "metadata": {},
   "outputs": [
    {
     "data": {
      "text/plain": [
       "Text(0,0.5,'Participants')"
      ]
     },
     "execution_count": 24,
     "metadata": {},
     "output_type": "execute_result"
    },
    {
     "data": {
      "image/png": "[encoded data removed]",
      "text/plain": [
       "<matplotlib.figure.Figure at 0x11efedc18>"
      ]
     },
     "metadata": {},
     "output_type": "display_data"
    }
   ],
   "source": [
    "checkin19.apply(lambda x: x.hour + x.minute/60).hist(range=(8, 18), bins=40)\n",
    "plt.title(\"Check in times on 19 Oct 2017\")\n",
    "plt.xlabel(\"Hour\")\n",
    "plt.ylabel(\"Participants\")"
   ]
  },
  {
   "cell_type": "code",
   "execution_count": 25,
   "metadata": {
    "collapsed": true
   },
   "outputs": [],
   "source": [
    "times = participants.loc[checkin19.index, [\"Order Date\", \"Check-In Date\"]]"
   ]
  },
  {
   "cell_type": "code",
   "execution_count": 26,
   "metadata": {
    "collapsed": true
   },
   "outputs": [],
   "source": [
    "times_secs = times.applymap(lambda x: (x - pd.Timestamp(datetime.date(2017, 10, 19))).total_seconds()) "
   ]
  },
  {
   "cell_type": "code",
   "execution_count": 27,
   "metadata": {},
   "outputs": [
    {
     "data": {
      "text/html": [
       "<div>\n",
       "<style>\n",
       "    .dataframe thead tr:only-child th {\n",
       "        text-align: right;\n",
       "    }\n",
       "\n",
       "    .dataframe thead th {\n",
       "        text-align: left;\n",
       "    }\n",
       "\n",
       "    .dataframe tbody tr th {\n",
       "        vertical-align: top;\n",
       "    }\n",
       "</style>\n",
       "<table border=\"1\" class=\"dataframe\">\n",
       "  <thead>\n",
       "    <tr style=\"text-align: right;\">\n",
       "      <th></th>\n",
       "      <th>Order Date</th>\n",
       "      <th>Check-In Date</th>\n",
       "    </tr>\n",
       "  </thead>\n",
       "  <tbody>\n",
       "    <tr>\n",
       "      <th>Order Date</th>\n",
       "      <td>1.000000</td>\n",
       "      <td>-0.123597</td>\n",
       "    </tr>\n",
       "    <tr>\n",
       "      <th>Check-In Date</th>\n",
       "      <td>-0.123597</td>\n",
       "      <td>1.000000</td>\n",
       "    </tr>\n",
       "  </tbody>\n",
       "</table>\n",
       "</div>"
      ],
      "text/plain": [
       "               Order Date  Check-In Date\n",
       "Order Date       1.000000      -0.123597\n",
       "Check-In Date   -0.123597       1.000000"
      ]
     },
     "execution_count": 27,
     "metadata": {},
     "output_type": "execute_result"
    }
   ],
   "source": [
    "times_secs.corr()"
   ]
  },
  {
   "cell_type": "code",
   "execution_count": 28,
   "metadata": {},
   "outputs": [
    {
     "data": {
      "text/plain": [
       "Data Scientist               60\n",
       "Student                      19\n",
       "Software Engineer            12\n",
       "Developer                    10\n",
       "Software Developer            9\n",
       "CTO                           8\n",
       "student                       8\n",
       "Phyton Developer              7\n",
       "PhD student                   6\n",
       "softeare developer            5\n",
       "Junior Data Scientist         5\n",
       "Development                   5\n",
       "Programmer                    4\n",
       "R&D Engineer                  4\n",
       "Senior Software Engineer      4\n",
       "Software developer            4\n",
       "Machine Learning Engineer     3\n",
       "Researcher                    3\n",
       "Intern                        3\n",
       "Software engineer             3\n",
       "Name: Job Title, dtype: int64"
      ]
     },
     "execution_count": 28,
     "metadata": {},
     "output_type": "execute_result"
    }
   ],
   "source": [
    "participants[\"Job Title\"].value_counts().head(20)"
   ]
  },
  {
   "cell_type": "code",
   "execution_count": 29,
   "metadata": {},
   "outputs": [
    {
     "data": {
      "text/plain": [
       "[('data', 105),\n",
       " ('scientist', 85),\n",
       " ('developer', 66),\n",
       " ('engineer', 51),\n",
       " ('software', 47),\n",
       " ('student', 35),\n",
       " ('senior', 23),\n",
       " ('junior', 16),\n",
       " ('analyst', 16),\n",
       " ('consultant', 12),\n",
       " ('manager', 11),\n",
       " ('specialist', 10),\n",
       " ('python', 9),\n",
       " ('phd', 9),\n",
       " ('team', 9),\n",
       " ('head', 8),\n",
       " ('of', 8),\n",
       " ('science', 8),\n",
       " ('r&d', 8),\n",
       " ('lead', 8)]"
      ]
     },
     "execution_count": 29,
     "metadata": {},
     "output_type": "execute_result"
    }
   ],
   "source": [
    "from collections import Counter\n",
    "words = Counter()\n",
    "for index, title in participants[\"Job Title\"].items():\n",
    "    words.update(title.lower().split())\n",
    "words.most_common(20)"
   ]
  },
  {
   "cell_type": "code",
   "execution_count": null,
   "metadata": {
    "collapsed": true
   },
   "outputs": [],
   "source": []
  }
 ],
 "metadata": {
  "kernelspec": {
   "display_name": "Python [default]",
   "language": "python",
   "name": "python3"
  },
  "language_info": {
   "codemirror_mode": {
    "name": "ipython",
    "version": 3
   },
   "file_extension": ".py",
   "mimetype": "text/x-python",
   "name": "python",
   "nbconvert_exporter": "python",
   "pygments_lexer": "ipython3",
   "version": "3.5.3"
  }
 },
 "nbformat": 4,
 "nbformat_minor": 2
}
