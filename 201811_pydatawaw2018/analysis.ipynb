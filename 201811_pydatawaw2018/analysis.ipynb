{
 "cells": [
  {
   "cell_type": "code",
   "execution_count": 1,
   "metadata": {},
   "outputs": [],
   "source": [
    "import pandas as pd\n",
    "%matplotlib inline\n",
    "from matplotlib import pyplot as plt\n",
    "import seaborn as sns\n",
    "import datetime\n",
    "sns.set_style('whitegrid')"
   ]
  },
  {
   "cell_type": "code",
   "execution_count": 2,
   "metadata": {},
   "outputs": [],
   "source": [
    "# I made steps to anonymize this data.\n",
    "# Though, if you have any reservations - please let me know and I will remove your entry.\n",
    "participants = pd.read_csv(\"pdwc2018_anonym.csv\", parse_dates=['Order Date', 'Check-In Date'])"
   ]
  },
  {
   "cell_type": "code",
   "execution_count": 3,
   "metadata": {},
   "outputs": [
    {
     "data": {
      "text/html": [
       "<div>\n",
       "<style scoped>\n",
       "    .dataframe tbody tr th:only-of-type {\n",
       "        vertical-align: middle;\n",
       "    }\n",
       "\n",
       "    .dataframe tbody tr th {\n",
       "        vertical-align: top;\n",
       "    }\n",
       "\n",
       "    .dataframe thead th {\n",
       "        text-align: right;\n",
       "    }\n",
       "</style>\n",
       "<table border=\"1\" class=\"dataframe\">\n",
       "  <thead>\n",
       "    <tr style=\"text-align: right;\">\n",
       "      <th></th>\n",
       "      <th>Attendee Status</th>\n",
       "      <th>Order Date</th>\n",
       "      <th>Check-In Date</th>\n",
       "      <th>Would you like a T-Shirt?</th>\n",
       "      <th>What size?</th>\n",
       "      <th>Gender</th>\n",
       "      <th>GenderP</th>\n",
       "      <th>Participant Type</th>\n",
       "      <th>Call Type</th>\n",
       "      <th>Country</th>\n",
       "      <th>City</th>\n",
       "    </tr>\n",
       "  </thead>\n",
       "  <tbody>\n",
       "    <tr>\n",
       "      <th>0</th>\n",
       "      <td>Checked In</td>\n",
       "      <td>2018-08-08 09:22:33</td>\n",
       "      <td>2018-11-19 10:15:00</td>\n",
       "      <td>Yes</td>\n",
       "      <td>Unisex XL</td>\n",
       "      <td>male</td>\n",
       "      <td>1.0</td>\n",
       "      <td>Individual</td>\n",
       "      <td>Early Bird</td>\n",
       "      <td>United States</td>\n",
       "      <td>New York</td>\n",
       "    </tr>\n",
       "    <tr>\n",
       "      <th>1</th>\n",
       "      <td>Checked In</td>\n",
       "      <td>2018-08-08 20:52:01</td>\n",
       "      <td>2018-11-19 09:57:00</td>\n",
       "      <td>Yes</td>\n",
       "      <td>Unisex Medium</td>\n",
       "      <td>male</td>\n",
       "      <td>1.0</td>\n",
       "      <td>Individual</td>\n",
       "      <td>Early Bird</td>\n",
       "      <td>Poland</td>\n",
       "      <td>Warsaw</td>\n",
       "    </tr>\n",
       "    <tr>\n",
       "      <th>2</th>\n",
       "      <td>Checked In</td>\n",
       "      <td>2018-08-09 11:03:00</td>\n",
       "      <td>2018-11-19 09:22:00</td>\n",
       "      <td>Yes</td>\n",
       "      <td>Unisex Medium</td>\n",
       "      <td>female</td>\n",
       "      <td>1.0</td>\n",
       "      <td>Corporate</td>\n",
       "      <td>Early Bird</td>\n",
       "      <td>Unknown Location</td>\n",
       "      <td>NaN</td>\n",
       "    </tr>\n",
       "    <tr>\n",
       "      <th>3</th>\n",
       "      <td>Checked In</td>\n",
       "      <td>2018-08-09 11:03:00</td>\n",
       "      <td>2018-11-19 12:08:00</td>\n",
       "      <td>Yes</td>\n",
       "      <td>Unisex Small</td>\n",
       "      <td>female</td>\n",
       "      <td>1.0</td>\n",
       "      <td>Corporate</td>\n",
       "      <td>Early Bird</td>\n",
       "      <td>Unknown Location</td>\n",
       "      <td>NaN</td>\n",
       "    </tr>\n",
       "    <tr>\n",
       "      <th>4</th>\n",
       "      <td>Checked In</td>\n",
       "      <td>2018-08-09 11:03:00</td>\n",
       "      <td>2018-11-19 11:32:00</td>\n",
       "      <td>Yes</td>\n",
       "      <td>Unisex Large</td>\n",
       "      <td>male</td>\n",
       "      <td>1.0</td>\n",
       "      <td>Corporate</td>\n",
       "      <td>Early Bird</td>\n",
       "      <td>Unknown Location</td>\n",
       "      <td>NaN</td>\n",
       "    </tr>\n",
       "  </tbody>\n",
       "</table>\n",
       "</div>"
      ],
      "text/plain": [
       "  Attendee Status          Order Date       Check-In Date  \\\n",
       "0      Checked In 2018-08-08 09:22:33 2018-11-19 10:15:00   \n",
       "1      Checked In 2018-08-08 20:52:01 2018-11-19 09:57:00   \n",
       "2      Checked In 2018-08-09 11:03:00 2018-11-19 09:22:00   \n",
       "3      Checked In 2018-08-09 11:03:00 2018-11-19 12:08:00   \n",
       "4      Checked In 2018-08-09 11:03:00 2018-11-19 11:32:00   \n",
       "\n",
       "  Would you like a T-Shirt?     What size?  Gender  GenderP Participant Type  \\\n",
       "0                       Yes      Unisex XL    male      1.0       Individual   \n",
       "1                       Yes  Unisex Medium    male      1.0       Individual   \n",
       "2                       Yes  Unisex Medium  female      1.0        Corporate   \n",
       "3                       Yes   Unisex Small  female      1.0        Corporate   \n",
       "4                       Yes   Unisex Large    male      1.0        Corporate   \n",
       "\n",
       "    Call Type           Country      City  \n",
       "0  Early Bird     United States  New York  \n",
       "1  Early Bird            Poland    Warsaw  \n",
       "2  Early Bird  Unknown Location       NaN  \n",
       "3  Early Bird  Unknown Location       NaN  \n",
       "4  Early Bird  Unknown Location       NaN  "
      ]
     },
     "execution_count": 3,
     "metadata": {},
     "output_type": "execute_result"
    }
   ],
   "source": [
    "participants.head()"
   ]
  },
  {
   "cell_type": "code",
   "execution_count": 4,
   "metadata": {},
   "outputs": [
    {
     "data": {
      "text/plain": [
       "435"
      ]
     },
     "execution_count": 4,
     "metadata": {},
     "output_type": "execute_result"
    }
   ],
   "source": [
    "len(participants)"
   ]
  },
  {
   "cell_type": "code",
   "execution_count": 5,
   "metadata": {},
   "outputs": [
    {
     "data": {
      "text/plain": [
       "94.25287356321839"
      ]
     },
     "execution_count": 5,
     "metadata": {},
     "output_type": "execute_result"
    }
   ],
   "source": [
    "# percent of people who showed up\n",
    "100 * (participants['Attendee Status'] == \"Checked In\").mean()"
   ]
  },
  {
   "cell_type": "code",
   "execution_count": 6,
   "metadata": {},
   "outputs": [
    {
     "data": {
      "text/plain": [
       "Poland              284\n",
       "Germany              24\n",
       "Unknown Location     17\n",
       "United Kingdom       15\n",
       "Netherlands          12\n",
       "Denmark              10\n",
       "Czech Republic        7\n",
       "France                7\n",
       "Italy                 7\n",
       "Lithuania             6\n",
       "United States         6\n",
       "Malta                 5\n",
       "Norway                5\n",
       "Greece                4\n",
       "Switzerland           4\n",
       "Portugal              4\n",
       "Ukraine               3\n",
       "Sweden                3\n",
       "Latvia                2\n",
       "Spain                 2\n",
       "Ireland               2\n",
       "Russia                1\n",
       "Austria               1\n",
       "Belgium               1\n",
       "Serbia                1\n",
       "Seychelles            1\n",
       "Nigeria               1\n",
       "Name: Country, dtype: int64"
      ]
     },
     "execution_count": 6,
     "metadata": {},
     "output_type": "execute_result"
    }
   ],
   "source": [
    "participants['Country'].value_counts()"
   ]
  },
  {
   "cell_type": "code",
   "execution_count": 7,
   "metadata": {},
   "outputs": [
    {
     "data": {
      "text/plain": [
       "0.6528735632183909"
      ]
     },
     "execution_count": 7,
     "metadata": {},
     "output_type": "execute_result"
    }
   ],
   "source": [
    "# Poland 2017 was: 332 / 415 = 0.8\n",
    "# Poland 2018 is: 0.65\n",
    "participants['Country'].value_counts()['Poland'] / len(participants)"
   ]
  },
  {
   "cell_type": "code",
   "execution_count": 8,
   "metadata": {},
   "outputs": [
    {
     "data": {
      "text/plain": [
       "0.6919540229885057"
      ]
     },
     "execution_count": 8,
     "metadata": {},
     "output_type": "execute_result"
    }
   ],
   "source": [
    "(participants['Country'].value_counts()['Poland'] + 17) / len(participants)"
   ]
  },
  {
   "cell_type": "code",
   "execution_count": 9,
   "metadata": {},
   "outputs": [
    {
     "data": {
      "text/plain": [
       "Warsaw            163\n",
       "Krakow             17\n",
       "Poznan             14\n",
       "Wrocław            14\n",
       "Białystok          13\n",
       "Gliwice            11\n",
       "Katowice            5\n",
       "Szczecin            3\n",
       "Bytom               3\n",
       "Boguszów-Gorce      3\n",
       "Name: City, dtype: int64"
      ]
     },
     "execution_count": 9,
     "metadata": {},
     "output_type": "execute_result"
    }
   ],
   "source": [
    "participants.loc[lambda df: df['Country'] == \"Poland\"]['City'].value_counts().head(10)"
   ]
  },
  {
   "cell_type": "code",
   "execution_count": 10,
   "metadata": {},
   "outputs": [
    {
     "data": {
      "text/plain": [
       "0.37471264367816093"
      ]
     },
     "execution_count": 10,
     "metadata": {},
     "output_type": "execute_result"
    }
   ],
   "source": [
    "# Warsaw\n",
    "163 / 435"
   ]
  },
  {
   "cell_type": "code",
   "execution_count": 11,
   "metadata": {},
   "outputs": [
    {
     "data": {
      "text/plain": [
       "Copenhagen      7\n",
       "Düsseldorf      7\n",
       "Vilnius         6\n",
       "Leidschendam    5\n",
       "Valletta        5\n",
       "Oslo            5\n",
       "Amsterdam       5\n",
       "Paris           4\n",
       "London          4\n",
       "Athens          4\n",
       "Name: City, dtype: int64"
      ]
     },
     "execution_count": 11,
     "metadata": {},
     "output_type": "execute_result"
    }
   ],
   "source": [
    "participants.loc[lambda df: df['Country'] != \"Poland\"]['City'].value_counts().head(10)"
   ]
  },
  {
   "cell_type": "code",
   "execution_count": 12,
   "metadata": {},
   "outputs": [
    {
     "data": {
      "text/plain": [
       "27"
      ]
     },
     "execution_count": 12,
     "metadata": {},
     "output_type": "execute_result"
    }
   ],
   "source": [
    "# total number of countries\n",
    "len(participants['Country'].value_counts())"
   ]
  },
  {
   "cell_type": "code",
   "execution_count": 13,
   "metadata": {},
   "outputs": [
    {
     "data": {
      "text/plain": [
       "98"
      ]
     },
     "execution_count": 13,
     "metadata": {},
     "output_type": "execute_result"
    }
   ],
   "source": [
    "# total number of cities\n",
    "len(participants['City'].value_counts())"
   ]
  },
  {
   "cell_type": "code",
   "execution_count": 14,
   "metadata": {},
   "outputs": [
    {
     "data": {
      "text/plain": [
       "male      325\n",
       "female     93\n",
       "Name: Gender, dtype: int64"
      ]
     },
     "execution_count": 14,
     "metadata": {},
     "output_type": "execute_result"
    }
   ],
   "source": [
    "\n",
    "participants['Gender'].value_counts()"
   ]
  },
  {
   "cell_type": "code",
   "execution_count": 34,
   "metadata": {},
   "outputs": [
    {
     "data": {
      "text/plain": [
       "21.379310344827587"
      ]
     },
     "execution_count": 34,
     "metadata": {},
     "output_type": "execute_result"
    }
   ],
   "source": [
    "# percent of women (heuristics, from names)\n",
    "# TODO: compare with 2017\n",
    "100 * (participants['Gender'].value_counts()['female'] / len(participants))"
   ]
  },
  {
   "cell_type": "code",
   "execution_count": 16,
   "metadata": {},
   "outputs": [
    {
     "data": {
      "text/plain": [
       "<matplotlib.axes._subplots.AxesSubplot at 0x1a16049668>"
      ]
     },
     "execution_count": 16,
     "metadata": {},
     "output_type": "execute_result"
    },
    {
     "data": {
      "image/png": "[encoded data removed]",
      "text/plain": [
       "<Figure size 432x288 with 1 Axes>"
      ]
     },
     "metadata": {
      "needs_background": "light"
     },
     "output_type": "display_data"
    }
   ],
   "source": [
    "participants['GenderP'].hist()"
   ]
  },
  {
   "cell_type": "code",
   "execution_count": 17,
   "metadata": {},
   "outputs": [
    {
     "data": {
      "text/plain": [
       "<matplotlib.axes._subplots.AxesSubplot at 0x1a18066be0>"
      ]
     },
     "execution_count": 17,
     "metadata": {},
     "output_type": "execute_result"
    },
    {
     "data": {
      "image/png": "[encoded data removed]",
      "text/plain": [
       "<Figure size 432x288 with 2 Axes>"
      ]
     },
     "metadata": {
      "needs_background": "light"
     },
     "output_type": "display_data"
    }
   ],
   "source": [
    "ticket_types = pd.pivot_table(participants, index='Participant Type',\n",
    "                               columns='Call Type', values='Attendee Status', aggfunc=len)\n",
    "ticket_types = ticket_types.loc[:, ['Early Bird', 'Regular', 'Final Call']]\n",
    "sns.heatmap(ticket_types, annot=True, fmt=\"d\")"
   ]
  },
  {
   "cell_type": "code",
   "execution_count": 18,
   "metadata": {},
   "outputs": [
    {
     "name": "stderr",
     "output_type": "stream",
     "text": [
      "/Users/pmigdal/anaconda3/lib/python3.5/site-packages/seaborn/categorical.py:1468: FutureWarning: remove_na is deprecated and is a private function. Do not use.\n",
      "  stat_data = remove_na(group_data[hue_mask])\n"
     ]
    },
    {
     "data": {
      "text/plain": [
       "Text(0.5,1,'Ticket types at PyData Warsaw 2018')"
      ]
     },
     "execution_count": 18,
     "metadata": {},
     "output_type": "execute_result"
    },
    {
     "data": {
      "image/png": "[encoded data removed]",
      "text/plain": [
       "<Figure size 368.625x288 with 1 Axes>"
      ]
     },
     "metadata": {
      "needs_background": "light"
     },
     "output_type": "display_data"
    }
   ],
   "source": [
    "sns.factorplot(data=participants, x=\"Call Type\", hue=\"Participant Type\", kind=\"count\", size=4)\n",
    "plt.ylabel(\"Participants\")\n",
    "plt.title(\"Ticket types at PyData Warsaw 2018\")"
   ]
  },
  {
   "cell_type": "code",
   "execution_count": 19,
   "metadata": {},
   "outputs": [
    {
     "data": {
      "text/plain": [
       "83.9080459770115"
      ]
     },
     "execution_count": 19,
     "metadata": {},
     "output_type": "execute_result"
    }
   ],
   "source": [
    "# percent of people wanting a t-shirt\n",
    "100 * (participants['Would you like a T-Shirt?'] == \"Yes\").mean()"
   ]
  },
  {
   "cell_type": "code",
   "execution_count": 20,
   "metadata": {},
   "outputs": [
    {
     "data": {
      "text/plain": [
       "Medium             125\n",
       "Large              116\n",
       "XL                  48\n",
       "Small               47\n",
       "XXL                 12\n",
       "X-Small             12\n",
       "Large | XL           3\n",
       "Small | Medium       2\n",
       "Medium | Large       2\n",
       "X-Small | Small      1\n",
       "Small | Large        1\n",
       "Name: What size?, dtype: int64"
      ]
     },
     "execution_count": 20,
     "metadata": {},
     "output_type": "execute_result"
    }
   ],
   "source": [
    "tshirts = participants[\"What size?\"].dropna().apply(lambda x: x.replace(\"Unisex \", \"\")).value_counts()\n",
    "tshirts"
   ]
  },
  {
   "cell_type": "code",
   "execution_count": 21,
   "metadata": {},
   "outputs": [
    {
     "data": {
      "text/plain": [
       "Text(0,0.5,'Participants')"
      ]
     },
     "execution_count": 21,
     "metadata": {},
     "output_type": "execute_result"
    },
    {
     "data": {
      "image/png": "[encoded data removed]",
      "text/plain": [
       "<Figure size 432x288 with 1 Axes>"
      ]
     },
     "metadata": {
      "needs_background": "light"
     },
     "output_type": "display_data"
    }
   ],
   "source": [
    "tshirts.loc[['X-Small', 'Small', 'Medium', 'Large', 'XL', 'XXL']].plot(kind='bar')\n",
    "plt.title(\"T-shirt sizes at PyData Warsaw Conference 2018\")\n",
    "plt.ylabel(\"Participants\")"
   ]
  },
  {
   "cell_type": "markdown",
   "metadata": {},
   "source": [
    "## Was\n",
    "\n",
    "https://www.eventbrite.com/e/pydata-warsaw-2017-tickets-34889678969#\n",
    "\n",
    "* Early Bird ticket pricing (1 June - 16 July)\n",
    "  * Individual: 199.00 zł\n",
    "  * Corporate: 399.00 zł\n",
    "* Regular ticket pricing (17 July - 30 September)\n",
    "  * Individual: 299.00 zł\n",
    "  * Corporate: 599.00 zł\n",
    "* Final call ticket pricing (1 - 19 October)\n",
    "  * Individual: 399.00 zł\n",
    "  * Corporate: 799.00 zł\n",
    "\n",
    "## Is\n",
    "\n",
    "https://www.eventbrite.com/e/pydata-warsaw-2018-tickets-48182209285#\n",
    "\n",
    "* Early Bird ticket pricing (2 August - 31 August)\n",
    "  * Individual: 300.00 zł\n",
    "  * Corporate: 600.00 zł\n",
    "* Regular ticket pricing (1 September - 31 October)\n",
    "  * Individual: 400.00 zł\n",
    "  * Corporate: 750.00 zł\n",
    "* Final call ticket pricing (1 November - 18 November)\n",
    "  * Individual: 500.00 zł\n",
    "  * Corporate: 950.00 zł"
   ]
  },
  {
   "cell_type": "code",
   "execution_count": 22,
   "metadata": {},
   "outputs": [
    {
     "data": {
      "text/plain": [
       "<matplotlib.collections.LineCollection at 0x1a1dcb7208>"
      ]
     },
     "execution_count": 22,
     "metadata": {},
     "output_type": "execute_result"
    },
    {
     "data": {
      "image/png": "[encoded data removed]",
      "text/plain": [
       "<Figure size 432x288 with 1 Axes>"
      ]
     },
     "metadata": {
      "needs_background": "light"
     },
     "output_type": "display_data"
    }
   ],
   "source": [
    "order_dates = participants[\"Order Date\"].sort_values()\n",
    "pd.Series(range(1, len(order_dates) + 1), index=order_dates).plot()\n",
    "plt.title(\"Sign up dates for PyData Warsaw Conference 2018\")\n",
    "plt.xlabel(\"\")\n",
    "plt.ylabel(\"Participants (cummulative)\")\n",
    "plt.vlines(pd.Timestamp(datetime.date(2018, 8, 31)), 0, 435,\n",
    "           linestyles='--', colors='r', linewidth=1)\n",
    "plt.vlines(pd.Timestamp(datetime.date(2018, 10, 31)), 0, 435,\n",
    "           linestyles='--', colors='r', linewidth=1)\n",
    "# plt.text(pd.Timestamp(datetime.date(2017, 6, 24)), 400, \"early bid\")"
   ]
  },
  {
   "cell_type": "code",
   "execution_count": 23,
   "metadata": {},
   "outputs": [],
   "source": [
    "def ymd_to_days_before(y, m, d):\n",
    "    return -(pd.Timestamp(datetime.date(y, m, d)) - pd.Timestamp(datetime.date(2018, 11, 19))).total_seconds() / (60**2 * 24)"
   ]
  },
  {
   "cell_type": "code",
   "execution_count": 24,
   "metadata": {},
   "outputs": [
    {
     "data": {
      "text/plain": [
       "Text(0,0.5,'Participants (cumulative)')"
      ]
     },
     "execution_count": 24,
     "metadata": {},
     "output_type": "execute_result"
    },
    {
     "data": {
      "image/png": "[encoded data removed]",
      "text/plain": [
       "<Figure size 432x288 with 1 Axes>"
      ]
     },
     "metadata": {
      "needs_background": "light"
     },
     "output_type": "display_data"
    }
   ],
   "source": [
    "y_max = len(participants)\n",
    "order_dates = participants[\"Order Date\"].sort_values()\n",
    "days_to = order_dates.apply(lambda x: -(x - pd.Timestamp(datetime.date(2018, 11, 19))).total_seconds() / (60**2 * 24)) \n",
    "pd.Series(range(1, len(order_dates) + 1), index=days_to).plot(xlim=(105, 0))\n",
    "\n",
    "plt.vlines(ymd_to_days_before(2018, 8, 31), 0, y_max,\n",
    "           linestyles='--', colors='r', linewidth=1)\n",
    "plt.vlines(ymd_to_days_before(2018, 10, 31), 0, y_max,\n",
    "           linestyles='--', colors='r', linewidth=1)\n",
    "plt.text(98, 205, \"early bird\", color='r')\n",
    "plt.text(15, 205, \"final call\", color='r')\n",
    "# plt.text(ymd_to_days_before(2017, 7, 1), -15, \"JUL\")\n",
    "# plt.text(ymd_to_days_before(2017, 8, 1), -15, \"AUG\")\n",
    "# plt.text(ymd_to_days_before(2017, 9, 1), -15, \"SEPT\")\n",
    "# plt.text(ymd_to_days_before(2017, 10, 1), -15, \"OCT\")\n",
    "\n",
    "plt.ylim([0, y_max])\n",
    "plt.title(\"Sign up dates for PyData Warsaw Conference 2018\")\n",
    "plt.xlabel(\"Days before the conference (19 Oct 2018)\")\n",
    "plt.ylabel(\"Participants (cumulative)\")"
   ]
  },
  {
   "cell_type": "code",
   "execution_count": 25,
   "metadata": {},
   "outputs": [
    {
     "data": {
      "text/plain": [
       "Text(0,0.5,'Participants')"
      ]
     },
     "execution_count": 25,
     "metadata": {},
     "output_type": "execute_result"
    },
    {
     "data": {
      "image/png": "[encoded data removed]",
      "text/plain": [
       "<Figure size 432x288 with 1 Axes>"
      ]
     },
     "metadata": {
      "needs_background": "light"
     },
     "output_type": "display_data"
    }
   ],
   "source": [
    "# warning: some people arrived earlier but registered later\n",
    "checkin_dates = participants[\"Check-In Date\"].dropna().sort_values()\n",
    "pd.Series(range(1, len(checkin_dates) + 1), index=checkin_dates).plot()\n",
    "plt.title(\"Cumulative number of check ins\")\n",
    "plt.xlabel(\"\")\n",
    "plt.ylabel(\"Participants\")"
   ]
  },
  {
   "cell_type": "code",
   "execution_count": 26,
   "metadata": {},
   "outputs": [
    {
     "data": {
      "text/plain": [
       "<matplotlib.axes._subplots.AxesSubplot at 0x1a1dda8f28>"
      ]
     },
     "execution_count": 26,
     "metadata": {},
     "output_type": "execute_result"
    },
    {
     "data": {
      "image/png": "[encoded data removed]",
      "text/plain": [
       "<Figure size 432x288 with 1 Axes>"
      ]
     },
     "metadata": {
      "needs_background": "light"
     },
     "output_type": "display_data"
    }
   ],
   "source": [
    "checkin_dates.hist(bins=50)"
   ]
  },
  {
   "cell_type": "code",
   "execution_count": 27,
   "metadata": {},
   "outputs": [],
   "source": [
    "checkin19 = checkin_dates.loc[checkin_dates.apply(lambda x: x.day == 19)]\n"
   ]
  },
  {
   "cell_type": "code",
   "execution_count": 28,
   "metadata": {},
   "outputs": [
    {
     "data": {
      "text/plain": [
       "Text(0,0.5,'Participants')"
      ]
     },
     "execution_count": 28,
     "metadata": {},
     "output_type": "execute_result"
    },
    {
     "data": {
      "image/png": "[encoded data removed]",
      "text/plain": [
       "<Figure size 432x288 with 1 Axes>"
      ]
     },
     "metadata": {
      "needs_background": "light"
     },
     "output_type": "display_data"
    }
   ],
   "source": [
    "checkin19.apply(lambda x: x.hour + x.minute/60).hist(range=(8, 18), bins=40)\n",
    "plt.title(\"Check in times on 19 Nov 2018\")\n",
    "plt.xlabel(\"Hour\")\n",
    "plt.ylabel(\"Participants\")"
   ]
  },
  {
   "cell_type": "code",
   "execution_count": 29,
   "metadata": {},
   "outputs": [],
   "source": [
    "times = participants.loc[checkin19.index, [\"Order Date\", \"Check-In Date\"]]"
   ]
  },
  {
   "cell_type": "code",
   "execution_count": 30,
   "metadata": {},
   "outputs": [],
   "source": [
    "times_secs = times.applymap(lambda x: (x - pd.Timestamp(datetime.date(2017, 10, 19))).total_seconds()) "
   ]
  },
  {
   "cell_type": "code",
   "execution_count": 31,
   "metadata": {},
   "outputs": [
    {
     "data": {
      "text/html": [
       "<div>\n",
       "<style scoped>\n",
       "    .dataframe tbody tr th:only-of-type {\n",
       "        vertical-align: middle;\n",
       "    }\n",
       "\n",
       "    .dataframe tbody tr th {\n",
       "        vertical-align: top;\n",
       "    }\n",
       "\n",
       "    .dataframe thead th {\n",
       "        text-align: right;\n",
       "    }\n",
       "</style>\n",
       "<table border=\"1\" class=\"dataframe\">\n",
       "  <thead>\n",
       "    <tr style=\"text-align: right;\">\n",
       "      <th></th>\n",
       "      <th>Order Date</th>\n",
       "      <th>Check-In Date</th>\n",
       "    </tr>\n",
       "  </thead>\n",
       "  <tbody>\n",
       "    <tr>\n",
       "      <th>Order Date</th>\n",
       "      <td>1.000000</td>\n",
       "      <td>0.064705</td>\n",
       "    </tr>\n",
       "    <tr>\n",
       "      <th>Check-In Date</th>\n",
       "      <td>0.064705</td>\n",
       "      <td>1.000000</td>\n",
       "    </tr>\n",
       "  </tbody>\n",
       "</table>\n",
       "</div>"
      ],
      "text/plain": [
       "               Order Date  Check-In Date\n",
       "Order Date       1.000000       0.064705\n",
       "Check-In Date    0.064705       1.000000"
      ]
     },
     "execution_count": 31,
     "metadata": {},
     "output_type": "execute_result"
    }
   ],
   "source": [
    "times_secs.corr()"
   ]
  },
  {
   "cell_type": "code",
   "execution_count": 32,
   "metadata": {},
   "outputs": [],
   "source": [
    "#participants[\"Job Title\"].value_counts().head(20)"
   ]
  },
  {
   "cell_type": "code",
   "execution_count": 33,
   "metadata": {},
   "outputs": [],
   "source": [
    "#from collections import Counter\n",
    "#words = Counter()\n",
    "#for index, title in participants[\"Job Title\"].items():\n",
    "#    words.update(title.lower().split())\n",
    "#words.most_common(20)"
   ]
  },
  {
   "cell_type": "markdown",
   "metadata": {
    "collapsed": true
   },
   "source": [
    "## To do\n",
    "\n",
    "* some other fields (underrepresented, free tickets (organizers and stuff), newsletter)\n",
    "* comparison with 2017"
   ]
  },
  {
   "cell_type": "code",
   "execution_count": null,
   "metadata": {},
   "outputs": [],
   "source": []
  }
 ],
 "metadata": {
  "kernelspec": {
   "display_name": "Python [default]",
   "language": "python",
   "name": "python3"
  },
  "language_info": {
   "codemirror_mode": {
    "name": "ipython",
    "version": 3
   },
   "file_extension": ".py",
   "mimetype": "text/x-python",
   "name": "python",
   "nbconvert_exporter": "python",
   "pygments_lexer": "ipython3",
   "version": "3.5.4"
  }
 },
 "nbformat": 4,
 "nbformat_minor": 2
}
